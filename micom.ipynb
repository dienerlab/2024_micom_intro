{
  "cells": [
    {
      "cell_type": "markdown",
      "metadata": {
        "colab_type": "text",
        "id": "view-in-github"
      },
      "source": [
        "<a href=\"https://colab.research.google.com/github/dienerlab/2024_micom_intro/blob/main/micom.ipynb\" target=\"_parent\"><img src=\"https://colab.research.google.com/assets/colab-badge.svg\" alt=\"Open In Colab\"/></a>"
      ]
    },
    {
      "cell_type": "markdown",
      "metadata": {
        "id": "C0vqP4LJ9y6K"
      },
      "source": [
        "# 🧫🦠 Modeling microbiota-wide metabolism with MICOM\n",
        "\n",
        "This notebook will accompany the second MICOM intro session. The presentation slides can be [found here](https://dienerlab.github.io/2024_micom_intro). \n",
        "\n",
        "You can save your own local copy of this notebook by using `File > Save a copy in Drive`. You may be prompted to certify the notebook is safe. We promise that it is 🤞\n",
        "\n",
        "**Disclaimer:**\n",
        "The linear and quadratic programming problems MICOM has to solve are very large and very complicated. There are some very good commercial solvers that are very expensive (even though they are often free for academic use). To make this tutorial as accessible as possible we will use an Open Source hybrid solver developed for MICOM. This solvr is accurate but may be slower than commercial solvers. Installing cost-free academic versions of commercial solvers like [IBM CPLEX](https://www.ibm.com/analytics/cplex-optimizer) or [Gurobi](https://www.gurobi.com/) will speed up some of the computations.\n",
        "\n"
      ]
    },
    {
      "cell_type": "markdown",
      "metadata": {
        "id": "qgBBl4GtuTuX"
      },
      "source": [
        "# 📝 Setup\n",
        "\n",
        "MICOM installation is is usually pretty straight-forward and can be as easy as typing `pip install micom` into your Terminal. This will also work in a conda environment for example.\n",
        "\n",
        "First let's start by downloading the materials and switching to the folder."
      ]
    },
    {
      "cell_type": "code",
      "execution_count": null,
      "metadata": {
        "id": "ckON4xr3_bW5"
      },
      "outputs": [],
      "source": [
        "!git clone https://github.com/dienerlab/2024_micom_intro materials\n",
        "%cd materials"
      ]
    },
    {
      "cell_type": "markdown",
      "metadata": {
        "id": "is6fmBUeorwv"
      },
      "source": [
        "## Basic Installation\n",
        "\n",
        "Installing MICOM is straight-forward in Python. The solver itself will be installed automatically along with it. This will also work in a conda environment."
      ]
    },
    {
      "cell_type": "code",
      "execution_count": null,
      "metadata": {
        "id": "M_TeC5yrst3h"
      },
      "outputs": [],
      "source": [
        "!pip install -q micom\n",
        "\n",
        "print(\"Done! 🎉 \")"
      ]
    },
    {
      "cell_type": "markdown",
      "metadata": {
        "id": "oPy1f-WLI0lZ"
      },
      "source": [
        "Okay, all done. So let's get started building some models 🦺🛠d😁.\n",
        "\n",
        "# 💻 MICOM\n",
        "\n",
        "We will use the Python interface to MICOM since it plays nicely with Colaboratory.\n",
        "\n",
        "Here is an overview of all the steps and functions across both interfaces:\n",
        "![micom overview](https://github.com/micom-dev/q2-micom/raw/706f583a060b91c12c0cec7acea2354fdd0dd320/docs/assets/overview.png)\n",
        "\n",
        "The process of building a metabolic model in MICOM begins with constructing a combined abundance/taxonomy table, referred to hereafter as a taxonomy table. Let's load our taxonomy table to see what it looks like: \n",
        "\n"
      ]
    },
    {
      "cell_type": "code",
      "execution_count": null,
      "metadata": {
        "id": "UV9SObSQkSZh"
      },
      "outputs": [],
      "source": [
        "import pandas as pd\n",
        "\n",
        "table = pd.read_csv(\"tax_table.csv\")\n",
        "table\n"
      ]
    },
    {
      "cell_type": "markdown",
      "metadata": {
        "id": "AEk7yfd1lbYp"
      },
      "source": [
        "In this taxonomy table, we two samples. The first sample is from an healthy individual in the iHMP cohort. The sample was processed with Kraken2 and Bracken and the abundance denote reads assigned to that species. The second sample is exactly the same abundances with an additional *Bifidobacterium animalis* entry. This is one of the strengths of MICOM. It simulates *single samples* so you can always add in samples with arbitrary modification such as drop-ins and drop-outs for example. The `id` columns is an alternative name for the taxon that has to fulfill certain formatiing requirements (no spaces). It will be optional in the next MICOM version.\n",
        "\n",
        "Your table can also contain additional, arbitrary columns. Those will be passed through the MICOM analyses.\n",
        "\n",
        "The specific format you see here is called [tidy data](https://cran.r-project.org/web/packages/tidyr/vignettes/tidy-data.html). It might be useful to get familiar with that concept at some point, but for now it is important to know that all primary outputs of MICOM workflows will also be in that format (and the rest will soon be converted to it as well). \n",
        "\n",
        "## Building Microbial Community Metabolic Models (MCMMs)\n",
        "\n",
        "If we only have abundances we still need the individuals reconstructions for the species. This is provided in a *model database*. One important thing to to remember is that the taxonomy format for the database and your table *has to be the same*. So if you have Kraken2 data you need a database in RefSeq format (using the NCBI taxonomy). If your table would be GTDB taxa you would need to use a database for that. The rest of the name tells you where the models came from. We will use AGORA2, a database of manually curated metabolic models for several thousand strains. There are many databases provided in the [MICOM model databases](https://zenodo.org/records/7739096). Let's download the species one for AGORA2."
      ]
    },
    {
      "cell_type": "code",
      "execution_count": null,
      "metadata": {},
      "outputs": [],
      "source": [
        "!wget \"https://zenodo.org/records/7739096/files/agora201_refseq216_species_1.qza?download=1\" -O agora201_refseq216_species_1.qza"
      ]
    },
    {
      "cell_type": "markdown",
      "metadata": {
        "id": "_57iya0D3L6-"
      },
      "source": [
        "Now we're all set to start building models! We only have two samples so we will build them in parallel. "
      ]
    },
    {
      "cell_type": "code",
      "execution_count": null,
      "metadata": {
        "id": "kDbSN71SmCZr"
      },
      "outputs": [],
      "source": [
        "from micom.workflows import build\n",
        "\n",
        "manifest = build(table, \"agora201_refseq216_species_1.qza\", \"models\", threads=2)"
      ]
    },
    {
      "cell_type": "markdown",
      "metadata": {
        "id": "Kwya6vbZZSUo"
      },
      "source": [
        "MICOM will warn you if less than 50% of the abundances can be matched to the database for one of the samples. This can happen with some data, and may indicate the models may not be completely representative of the samples. Typically a fraction of 80% or more is considered great. We'll continue, but remember to keep an eye out for this in future projects!\n",
        "\n",
        "In lower-biomass 16S amplicon sequencing samples from stool, many reads can match to food components or to host mitochondria and these hits probably do not contribute much to bacterial community metabolism. These hits will be excluded from MICOM. \n",
        "\n",
        "Let's take a look what we got back from the `build` process."
      ]
    },
    {
      "cell_type": "code",
      "execution_count": null,
      "metadata": {
        "id": "r9qwglr88Ise"
      },
      "outputs": [],
      "source": [
        "manifest"
      ]
    },
    {
      "cell_type": "markdown",
      "metadata": {
        "id": "y4KAJkhIdspQ"
      },
      "source": [
        "This will tell you how many taxa were found in the database and what fraction of the total abundance was represented by the database. Here all species were in the database, stellar!\n",
        "\n",
        "So we now have our community models and can leverage MICOM fully by simulating community growth - let's discuss what we want to look at. \n",
        "\n",
        "### Dietary Context\n",
        "\n",
        "MICOM always requires environmental context, meaning data concerning availability of nutrients in the environment. This is considered a feature not a bug. In the end nothing in ecology makes sense except in the light of the environment.\n",
        "\n",
        "For gut microbiome samples, this is often coming from the diet, and there are many environmental media formulations for MICOM available. This time we need to match those to the *source* of the model database (the taxonomy naming does not matter here). So we will need a medium that is built for AGORA2. Luckily there already is one for an average european diet right here, phew. The model is save in a Qiime2 format but we can still load it here directly (even without a Qiime2 installation)."
      ]
    },
    {
      "cell_type": "code",
      "execution_count": null,
      "metadata": {},
      "outputs": [],
      "source": [
        "from micom.qiime_formats import load_qiime_medium\n",
        "\n",
        "medium = load_qiime_medium(\"average_european_agora2.qza\")\n",
        "medium"
      ]
    },
    {
      "cell_type": "markdown",
      "metadata": {
        "id": "4s8R4WYUez4g"
      },
      "source": [
        "### Growing the models\n",
        "Great, now we have our media & our models, it's time to get growing. We'll grow of the samples in the same medium. This is way more controlled than any real study we could run. All differences we see are purely because of the added probiotic. This will take some time, so we'll use that time as an opportunity to discuss more in depth what these processes do, and what to look for in the results. First, let's run the `grow()` command using the matched medium. This will take the models we've built, and find an optimal solution to the fluxes based upon the medium that's been applied."
      ]
    },
    {
      "cell_type": "code",
      "execution_count": null,
      "metadata": {
        "id": "IjDguZEcWGjG"
      },
      "outputs": [],
      "source": [
        "from micom.workflows import grow, save_results\n",
        "\n",
        "results = grow(manifest, \"models\", medium, tradeoff=0.5, threads=2)\n",
        "\n",
        "# We'll save the results to a file\n",
        "save_results(results, \"results.zip\")"
      ]
    },
    {
      "cell_type": "markdown",
      "metadata": {
        "id": "rHedHJxHWkjy"
      },
      "source": [
        "Again, if that takes too long or was aborted, we can read it in from a cached result."
      ]
    },
    {
      "cell_type": "code",
      "execution_count": null,
      "metadata": {
        "id": "rcPNBkDpWGrQ"
      },
      "outputs": [],
      "source": [
        "from micom.workflows import load_results\n",
        "\n",
        "try:               # Will only run if the previous step failed\n",
        "  results\n",
        "except NameError:\n",
        "  matched_growth = load_results(\"results.zip\")"
      ]
    },
    {
      "cell_type": "markdown",
      "metadata": {
        "id": "69gq9QfAzqxq"
      },
      "source": [
        "What kind of results did we get? Well, `grow` returns a tuple of 3 data sets:\n",
        "\n",
        "1. The predicted growth rate for all taxa in all samples\n",
        "2. The import and export fluxes for each taxon and the external environment\n",
        "3. Annotations for the fluxes mapping to other databases\n",
        "\n",
        "### 📈 Growth Rates\n",
        "\n",
        "The growth rates are pretty straightforward. What can you say about the probiotic species we added?"
      ]
    },
    {
      "cell_type": "code",
      "execution_count": null,
      "metadata": {
        "id": "lIz36dSQWyO4"
      },
      "outputs": [],
      "source": [
        "results.growth_rates"
      ]
    },
    {
      "cell_type": "markdown",
      "metadata": {
        "id": "F5BK7DDv0UfA"
      },
      "source": [
        "### ↔️ Exchange Fluxes \n",
        "\n",
        "More interesting are the exchange fluxes. These reactions represent the import and export of metabolites from the system Let's look at those now:"
      ]
    },
    {
      "cell_type": "code",
      "execution_count": null,
      "metadata": {
        "id": "lQW2BBS10jdN"
      },
      "outputs": [],
      "source": [
        "results.exchanges"
      ]
    },
    {
      "cell_type": "markdown",
      "metadata": {
        "id": "Pu5XtkUl1YG1"
      },
      "source": [
        "So we see how much of each metabolite is either consumed or produced by each taxon in each sample. `tolerance` denotes the accuracy of the solver and tells you the smallest absolute flux that is likely different form zero (i.e., substantial flux). *All of the fluxes are normalized to 1g dry weight of bacteria*. So, you can directly compare fluxes between taxa, even if they are present at very different abundances. \n",
        "\n",
        "If you're curious what the abbreviation for each of these metabolites represents, that can be found in the annotations dataframe. For instance, let's find out what `\"but[e]\"` represents. "
      ]
    },
    {
      "cell_type": "code",
      "execution_count": null,
      "metadata": {
        "id": "DphXa9hw1yxM"
      },
      "outputs": [],
      "source": [
        "anns = results.annotations\n",
        "anns[anns.metabolite == \"but[e]\"]"
      ]
    },
    {
      "cell_type": "markdown",
      "metadata": {
        "id": "GVHLD2dm4a6B"
      },
      "source": [
        "Butyrate! Interesting, [that's an important metabolite](https://www.ncbi.nlm.nih.gov/pmc/articles/PMC8608412/)! All of these annotations and more information at are also available at https://vmh.life, maintained by Dr. Ines Thiele's lab. \n",
        "\n",
        "We can also look at production rates for metabolites. Let's do that and look at valine."
      ]
    },
    {
      "cell_type": "code",
      "execution_count": null,
      "metadata": {
        "id": "I14SxizN45ya"
      },
      "outputs": [],
      "source": [
        "from micom.measures import production_rates\n",
        "\n",
        "prod = production_rates(results)\n",
        "prod[prod.name == \"L-valine\"]"
      ]
    },
    {
      "cell_type": "markdown",
      "metadata": {},
      "source": [
        "Finally we could go back to the exchange fluxes to see who produces the valine."
      ]
    },
    {
      "cell_type": "code",
      "execution_count": null,
      "metadata": {},
      "outputs": [],
      "source": [
        "ex = results.exchanges\n",
        "ex[ex.metabolite == \"val_L[e]\"].sort_values(by=\"flux\", ascending=False)"
      ]
    },
    {
      "cell_type": "markdown",
      "metadata": {},
      "source": [
        "Let's stop here for today and feel free to check out the other online courses that will go into much more depth."
      ]
    }
  ],
  "metadata": {
    "colab": {
      "collapsed_sections": [],
      "include_colab_link": true,
      "provenance": []
    },
    "kernelspec": {
      "display_name": "Python 3.10.7 ('micom')",
      "language": "python",
      "name": "python3"
    },
    "language_info": {
      "codemirror_mode": {
        "name": "ipython",
        "version": 3
      },
      "file_extension": ".py",
      "mimetype": "text/x-python",
      "name": "python",
      "nbconvert_exporter": "python",
      "pygments_lexer": "ipython3",
      "version": "3.11.8"
    },
    "vscode": {
      "interpreter": {
        "hash": "c991a7ed881363492957ff225bb30af9d5174cd8515a21cbef71fcaa303e4050"
      }
    }
  },
  "nbformat": 4,
  "nbformat_minor": 0
}
